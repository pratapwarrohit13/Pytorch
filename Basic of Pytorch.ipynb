{
 "cells": [
  {
   "cell_type": "code",
   "execution_count": 1,
   "id": "elegant-circulation",
   "metadata": {},
   "outputs": [],
   "source": [
    "import torch\n",
    "import numpy as np"
   ]
  },
  {
   "cell_type": "code",
   "execution_count": 2,
   "id": "angry-uniform",
   "metadata": {},
   "outputs": [
    {
     "name": "stdout",
     "output_type": "stream",
     "text": [
      "1.7.1\n"
     ]
    }
   ],
   "source": [
    "print(torch.__version__)"
   ]
  },
  {
   "cell_type": "code",
   "execution_count": 3,
   "id": "disciplinary-reservoir",
   "metadata": {
    "scrolled": false
   },
   "outputs": [
    {
     "name": "stderr",
     "output_type": "stream",
     "text": [
      "C:\\Users\\rohit.pratapwar\\Anaconda3\\envs\\tf\\lib\\site-packages\\torch\\cuda\\__init__.py:52: UserWarning: CUDA initialization: Found no NVIDIA driver on your system. Please check that you have an NVIDIA GPU and installed a driver from http://www.nvidia.com/Download/index.aspx (Triggered internally at  ..\\c10\\cuda\\CUDAFunctions.cpp:100.)\n",
      "  return torch._C._cuda_getDeviceCount() > 0\n"
     ]
    }
   ],
   "source": [
    "device = \"cuda\" if torch.cuda.is_available() else \"cpu\"\n",
    "my_tensor = torch.tensor([[1,2,3],[4,5,6]],dtype=torch.float32,device=device,\n",
    "                        requires_grad=True)"
   ]
  },
  {
   "cell_type": "code",
   "execution_count": 4,
   "id": "functional-frequency",
   "metadata": {},
   "outputs": [
    {
     "name": "stdout",
     "output_type": "stream",
     "text": [
      "tensor([[1., 2., 3.],\n",
      "        [4., 5., 6.]], requires_grad=True)\n",
      "torch.float32\n",
      "cpu\n",
      "torch.Size([2, 3])\n",
      "True\n"
     ]
    }
   ],
   "source": [
    "print(my_tensor)\n",
    "print(my_tensor.dtype)\n",
    "print(my_tensor.device)\n",
    "print(my_tensor.shape)\n",
    "print(my_tensor.requires_grad)"
   ]
  },
  {
   "cell_type": "code",
   "execution_count": 5,
   "id": "recorded-metadata",
   "metadata": {},
   "outputs": [
    {
     "name": "stdout",
     "output_type": "stream",
     "text": [
      "tensor([[0., 0., 0.],\n",
      "        [0., 0., 0.],\n",
      "        [0., 0., 0.]])\n",
      "tensor([[0., 0., 0.],\n",
      "        [0., 0., 0.],\n",
      "        [0., 0., 0.]])\n",
      "tensor([[0.7935, 0.3345, 0.5754],\n",
      "        [0.1576, 0.6435, 0.5214],\n",
      "        [0.2617, 0.3697, 0.8905]])\n",
      "tensor([[1., 1., 1.],\n",
      "        [1., 1., 1.],\n",
      "        [1., 1., 1.]])\n",
      "tensor([[1., 0., 0.],\n",
      "        [0., 1., 0.],\n",
      "        [0., 0., 1.]])\n",
      "tensor([0, 1, 2, 3, 4])\n",
      "tensor([0.1000, 0.2000, 0.3000, 0.4000, 0.5000, 0.6000, 0.7000, 0.8000, 0.9000,\n",
      "        1.0000])\n",
      "tensor([[ 0.9128, -0.3045,  0.7043,  0.5553,  0.1971]])\n",
      "tensor([[0.7616, 0.8607, 0.5740, 0.7178, 0.6193]])\n",
      "tensor([[1., 0., 0.],\n",
      "        [0., 1., 0.],\n",
      "        [0., 0., 1.]])\n"
     ]
    }
   ],
   "source": [
    "x = torch.empty(size=(3,3))\n",
    "print(x)\n",
    "x = torch.zeros((3,3))\n",
    "print(x)\n",
    "x = torch.rand((3,3))\n",
    "print(x)\n",
    "x = torch.ones((3,3))\n",
    "print(x)\n",
    "x = torch.eye(3,3)\n",
    "print(x)\n",
    "x = torch.arange(start=0,end=5,step=1)\n",
    "print(x)\n",
    "x = torch.linspace(start=0.1,end=1,steps=10)\n",
    "print(x)\n",
    "x = torch.empty(size=(1,5)).normal_(mean=0,std=1)\n",
    "print(x)\n",
    "x = torch.empty(size=(1,5)).uniform_(0,1)\n",
    "print(x)\n",
    "x = torch.diag(torch.ones(3))\n",
    "print(x)"
   ]
  },
  {
   "cell_type": "code",
   "execution_count": 6,
   "id": "dirty-sculpture",
   "metadata": {},
   "outputs": [
    {
     "name": "stdout",
     "output_type": "stream",
     "text": [
      "tensor([False,  True,  True,  True])\n",
      "tensor([0, 1, 2, 3], dtype=torch.int16)\n",
      "tensor([0, 1, 2, 3])\n",
      "tensor([0., 1., 2., 3.], dtype=torch.float16)\n",
      "tensor([0., 1., 2., 3.])\n",
      "tensor([0., 1., 2., 3.], dtype=torch.float64)\n"
     ]
    }
   ],
   "source": [
    "tensor = torch.arange(4)\n",
    "print(tensor.bool())\n",
    "print(tensor.short())\n",
    "print(tensor.long())\n",
    "print(tensor.half())\n",
    "print(tensor.float())\n",
    "print(tensor.double())"
   ]
  },
  {
   "cell_type": "code",
   "execution_count": 7,
   "id": "sharp-steam",
   "metadata": {},
   "outputs": [],
   "source": [
    "np_array = np.zeros((5,5))\n",
    "tensor = torch.from_numpy(np_array)\n",
    "np_array_back = tensor.numpy()"
   ]
  },
  {
   "cell_type": "code",
   "execution_count": 8,
   "id": "digital-shape",
   "metadata": {},
   "outputs": [],
   "source": [
    "x = torch.tensor([1,2,3])\n",
    "y = torch.tensor([7,8,9])"
   ]
  },
  {
   "cell_type": "code",
   "execution_count": 9,
   "id": "least-accused",
   "metadata": {},
   "outputs": [
    {
     "data": {
      "text/plain": [
       "tensor([ 8., 10., 12.])"
      ]
     },
     "execution_count": 9,
     "metadata": {},
     "output_type": "execute_result"
    }
   ],
   "source": [
    "z1 = torch.empty(3)\n",
    "torch.add(x,y,out=z1)\n"
   ]
  },
  {
   "cell_type": "code",
   "execution_count": 10,
   "id": "informed-savage",
   "metadata": {},
   "outputs": [],
   "source": [
    "z2 = torch.add(x,y)"
   ]
  },
  {
   "cell_type": "code",
   "execution_count": 11,
   "id": "decent-statistics",
   "metadata": {},
   "outputs": [],
   "source": [
    "z = x + y"
   ]
  },
  {
   "cell_type": "code",
   "execution_count": 12,
   "id": "blessed-density",
   "metadata": {},
   "outputs": [],
   "source": [
    "z = x - y"
   ]
  },
  {
   "cell_type": "code",
   "execution_count": 13,
   "id": "damaged-reach",
   "metadata": {},
   "outputs": [
    {
     "name": "stdout",
     "output_type": "stream",
     "text": [
      "tensor([0.1429, 0.2500, 0.3333])\n"
     ]
    }
   ],
   "source": [
    "z = torch.true_divide(x,y)\n",
    "print(z)"
   ]
  },
  {
   "cell_type": "code",
   "execution_count": 14,
   "id": "greatest-emergency",
   "metadata": {},
   "outputs": [
    {
     "data": {
      "text/plain": [
       "tensor([1., 2., 3.])"
      ]
     },
     "execution_count": 14,
     "metadata": {},
     "output_type": "execute_result"
    }
   ],
   "source": [
    "# inplace operation\n",
    " \n",
    "t = torch.zeros(3)\n",
    "t.add_(x)"
   ]
  },
  {
   "cell_type": "code",
   "execution_count": 15,
   "id": "emerging-faith",
   "metadata": {},
   "outputs": [],
   "source": [
    "t += x"
   ]
  },
  {
   "cell_type": "code",
   "execution_count": 16,
   "id": "norwegian-salem",
   "metadata": {},
   "outputs": [
    {
     "name": "stdout",
     "output_type": "stream",
     "text": [
      "tensor([1, 4, 9])\n",
      "tensor([1, 4, 9])\n"
     ]
    }
   ],
   "source": [
    "# expotentiations\n",
    "z = x.pow(2)\n",
    "print(z)\n",
    "z = x ** 2\n",
    "print(z)"
   ]
  },
  {
   "cell_type": "code",
   "execution_count": 17,
   "id": "occupied-settle",
   "metadata": {},
   "outputs": [
    {
     "name": "stdout",
     "output_type": "stream",
     "text": [
      "tensor([True, True, True])\n",
      "tensor([False, False, False])\n"
     ]
    }
   ],
   "source": [
    "z = x > 0\n",
    "print(z)\n",
    "z = x < 0\n",
    "print(z)"
   ]
  },
  {
   "cell_type": "code",
   "execution_count": 18,
   "id": "accessible-bahrain",
   "metadata": {},
   "outputs": [
    {
     "name": "stdout",
     "output_type": "stream",
     "text": [
      "tensor([[1.2375, 1.4345, 0.8020],\n",
      "        [1.1274, 1.2775, 0.4944]])\n",
      "tensor([[1.2375, 1.4345, 0.8020],\n",
      "        [1.1274, 1.2775, 0.4944]])\n"
     ]
    }
   ],
   "source": [
    "#matrix multiplication\n",
    "\n",
    "x1 = torch.rand((2,5))\n",
    "x2 = torch.rand((5,3))\n",
    "x3 = torch.mm(x1, x2)\n",
    "print(x3)\n",
    "x3 = x1.mm(x2)\n",
    "print(x3)\n"
   ]
  },
  {
   "cell_type": "code",
   "execution_count": 19,
   "id": "mineral-antique",
   "metadata": {},
   "outputs": [
    {
     "name": "stdout",
     "output_type": "stream",
     "text": [
      "tensor([[49.0411, 38.8877, 26.5969, 44.8657, 20.4492],\n",
      "        [39.5776, 31.3971, 21.4773, 36.1610, 16.4961],\n",
      "        [40.3367, 31.9828, 21.8721, 36.8821, 16.8159],\n",
      "        [41.9326, 33.2963, 22.7552, 38.3274, 17.4734],\n",
      "        [35.1170, 27.8555, 19.0521, 32.1045, 14.6352]])\n"
     ]
    }
   ],
   "source": [
    "# matrix expotentiation\n",
    "\n",
    "matrix_exp = torch.rand(5,5)\n",
    "print(matrix_exp.matrix_power(5))"
   ]
  },
  {
   "cell_type": "code",
   "execution_count": 20,
   "id": "technical-combination",
   "metadata": {},
   "outputs": [
    {
     "name": "stdout",
     "output_type": "stream",
     "text": [
      "tensor([ 7, 16, 27])\n"
     ]
    }
   ],
   "source": [
    "# elementwise multiplication\n",
    "\n",
    "z = x * y \n",
    "print(z)"
   ]
  },
  {
   "cell_type": "code",
   "execution_count": 21,
   "id": "finite-redhead",
   "metadata": {},
   "outputs": [
    {
     "name": "stdout",
     "output_type": "stream",
     "text": [
      "tensor(50)\n"
     ]
    }
   ],
   "source": [
    "# dot product\n",
    "\n",
    "z = torch.dot(x,y)\n",
    "print(z)"
   ]
  },
  {
   "cell_type": "code",
   "execution_count": 22,
   "id": "about-eligibility",
   "metadata": {},
   "outputs": [
    {
     "name": "stdout",
     "output_type": "stream",
     "text": [
      "tensor([[[5.8649, 4.0494, 4.9355,  ..., 4.4309, 4.8471, 5.8823],\n",
      "         [4.9141, 3.9754, 4.6703,  ..., 4.5655, 4.6598, 6.2167],\n",
      "         [6.7955, 4.3616, 5.5672,  ..., 4.9801, 5.3178, 7.0567],\n",
      "         ...,\n",
      "         [6.0339, 5.6921, 5.8235,  ..., 4.5514, 4.0425, 6.5693],\n",
      "         [7.4556, 5.3560, 5.7531,  ..., 5.0402, 5.2281, 7.5037],\n",
      "         [4.0085, 3.4488, 3.9066,  ..., 2.9943, 3.9372, 4.1775]],\n",
      "\n",
      "        [[5.2536, 3.7245, 4.0080,  ..., 4.4861, 4.4154, 4.9116],\n",
      "         [5.0887, 4.3905, 3.8977,  ..., 3.7635, 4.6832, 5.3946],\n",
      "         [5.2965, 4.5958, 4.7878,  ..., 4.5754, 5.1701, 5.3495],\n",
      "         ...,\n",
      "         [5.0998, 4.7081, 4.4355,  ..., 4.9084, 4.2352, 5.2930],\n",
      "         [5.2569, 4.0687, 3.9136,  ..., 4.0326, 4.3453, 4.6016],\n",
      "         [5.6376, 3.9340, 4.4388,  ..., 5.0250, 5.0951, 5.3122]],\n",
      "\n",
      "        [[7.0165, 7.6486, 5.6090,  ..., 4.7428, 5.9598, 7.2463],\n",
      "         [4.4782, 5.7892, 4.1984,  ..., 4.0253, 3.9359, 5.0178],\n",
      "         [4.6740, 5.0643, 3.9674,  ..., 3.4281, 4.3726, 5.1601],\n",
      "         ...,\n",
      "         [5.8714, 6.4215, 4.1016,  ..., 4.2743, 5.0473, 6.3297],\n",
      "         [5.5072, 6.4004, 4.6945,  ..., 4.2088, 5.2735, 6.3358],\n",
      "         [5.8131, 6.1008, 5.0449,  ..., 3.8086, 5.0167, 6.7388]],\n",
      "\n",
      "        ...,\n",
      "\n",
      "        [[5.0667, 4.1552, 6.1161,  ..., 4.4284, 4.9695, 5.6904],\n",
      "         [4.8029, 4.6935, 5.0068,  ..., 4.5217, 4.7430, 4.6580],\n",
      "         [4.7848, 3.9337, 4.6008,  ..., 4.5108, 3.9237, 4.3568],\n",
      "         ...,\n",
      "         [5.8613, 5.2123, 5.8368,  ..., 4.9599, 4.9345, 5.3626],\n",
      "         [4.3570, 3.9728, 4.2398,  ..., 3.6564, 3.8215, 4.2204],\n",
      "         [7.0727, 5.7813, 7.3518,  ..., 6.2020, 6.0252, 5.7233]],\n",
      "\n",
      "        [[6.0147, 6.8479, 6.1192,  ..., 5.9679, 4.5395, 6.5458],\n",
      "         [5.3435, 5.9242, 5.5270,  ..., 5.7496, 4.4255, 6.2057],\n",
      "         [4.4307, 5.2357, 4.7575,  ..., 4.2964, 3.3255, 5.9495],\n",
      "         ...,\n",
      "         [4.5852, 4.2773, 4.1429,  ..., 4.0969, 3.3705, 5.3987],\n",
      "         [3.9938, 4.8950, 3.4172,  ..., 4.0268, 2.9112, 4.9770],\n",
      "         [4.9014, 5.4344, 4.5699,  ..., 4.2476, 3.5675, 5.7048]],\n",
      "\n",
      "        [[5.1521, 3.7356, 6.7639,  ..., 5.1019, 3.9020, 4.8249],\n",
      "         [5.3078, 2.9576, 5.9737,  ..., 4.2450, 2.9033, 3.8820],\n",
      "         [5.0298, 3.9778, 7.0859,  ..., 5.3172, 3.4293, 4.4950],\n",
      "         ...,\n",
      "         [5.5418, 3.5636, 6.8765,  ..., 5.1254, 3.7801, 4.2430],\n",
      "         [5.0219, 3.2005, 5.6947,  ..., 4.4956, 3.7448, 3.8500],\n",
      "         [5.3065, 3.5023, 5.9458,  ..., 4.7303, 3.9986, 3.7483]]])\n"
     ]
    }
   ],
   "source": [
    "# batch matrix multiplication\n",
    "batch = 32\n",
    "n = 10\n",
    "m = 20\n",
    "p = 30\n",
    "\n",
    "tensor1 = torch.rand(batch,n,m)\n",
    "tensor2 = torch.rand(batch,m,p)\n",
    "\n",
    "out_bmm = torch.bmm(tensor1,tensor2)\n",
    "print(out_bmm)"
   ]
  },
  {
   "cell_type": "code",
   "execution_count": 23,
   "id": "rental-offset",
   "metadata": {},
   "outputs": [],
   "source": [
    "#broadcasting\n",
    "x1 = torch.rand((5,5))\n",
    "x2 = torch.rand((1,5))"
   ]
  },
  {
   "cell_type": "code",
   "execution_count": 24,
   "id": "stable-juvenile",
   "metadata": {},
   "outputs": [],
   "source": [
    "z = x1-x2\n",
    "z = x1 ** x2"
   ]
  },
  {
   "cell_type": "code",
   "execution_count": 25,
   "id": "rental-document",
   "metadata": {},
   "outputs": [
    {
     "name": "stdout",
     "output_type": "stream",
     "text": [
      "tensor([False, False, False])\n",
      "tensor([1, 2, 3])\n"
     ]
    }
   ],
   "source": [
    "# tensorflow operations\n",
    "\n",
    "sum_x = torch.sum(x,dim=0)\n",
    "values,indices = torch.max(x,dim=0)\n",
    "values,indices = torch.min(x,dim=0)\n",
    "abs_x = torch.abs(x)\n",
    "z = torch.argmax(x,dim=0)\n",
    "z = torch.argmin(x,dim=0)\n",
    "mean_x = torch.mean(x.float(),dim=0)\n",
    "z = torch.eq(x,y)\n",
    "print(z)\n",
    "sorted_y, indices = torch.sort(y,dim=0,descending=False)\n",
    "z = torch.clamp(x, min=0)\n",
    "print(z)"
   ]
  },
  {
   "cell_type": "code",
   "execution_count": 26,
   "id": "respiratory-feelings",
   "metadata": {},
   "outputs": [
    {
     "name": "stdout",
     "output_type": "stream",
     "text": [
      "tensor(True)\n",
      "tensor(False)\n"
     ]
    }
   ],
   "source": [
    "x = torch.tensor([1,0,1,1,1],dtype=torch.bool)\n",
    "z = torch.any(x)\n",
    "print(z)\n",
    "z = torch.all(x)\n",
    "print(z)"
   ]
  },
  {
   "cell_type": "markdown",
   "id": "pending-skating",
   "metadata": {},
   "source": [
    "# Tensor Indexing"
   ]
  },
  {
   "cell_type": "code",
   "execution_count": 27,
   "id": "material-national",
   "metadata": {},
   "outputs": [
    {
     "name": "stdout",
     "output_type": "stream",
     "text": [
      "torch.Size([25])\n",
      "torch.Size([10])\n",
      "tensor([0.0773, 0.8803, 0.4764, 0.7384, 0.8346, 0.4689, 0.9972, 0.1586, 0.4698,\n",
      "        0.3396])\n"
     ]
    }
   ],
   "source": [
    "batch_size = 10\n",
    "features = 25\n",
    "x = torch.rand(batch_size,features)\n",
    "print(x[0].shape) # x[0,:]\n",
    "print(x[:,0].shape)\n",
    "print(x[2,0:10])"
   ]
  },
  {
   "cell_type": "code",
   "execution_count": 28,
   "id": "olive-communications",
   "metadata": {},
   "outputs": [],
   "source": [
    "x [0,0] = 100"
   ]
  },
  {
   "cell_type": "code",
   "execution_count": 29,
   "id": "closed-question",
   "metadata": {},
   "outputs": [
    {
     "name": "stdout",
     "output_type": "stream",
     "text": [
      "tensor([2, 5, 8])\n"
     ]
    }
   ],
   "source": [
    "x = torch.arange(10)\n",
    "indices = [2,5,8]\n",
    "print(x[indices])"
   ]
  },
  {
   "cell_type": "code",
   "execution_count": 30,
   "id": "democratic-occurrence",
   "metadata": {},
   "outputs": [
    {
     "name": "stdout",
     "output_type": "stream",
     "text": [
      "torch.Size([2])\n"
     ]
    }
   ],
   "source": [
    "x = torch.rand((3,5))\n",
    "rows = torch.tensor([1,0])\n",
    "cols = torch.tensor([4,0])\n",
    "print(x[rows,cols].shape)"
   ]
  },
  {
   "cell_type": "code",
   "execution_count": 31,
   "id": "nasty-literature",
   "metadata": {},
   "outputs": [
    {
     "name": "stdout",
     "output_type": "stream",
     "text": [
      "tensor([0, 1, 9])\n",
      "tensor([], dtype=torch.int64)\n",
      "tensor([0, 2, 4, 6, 8])\n"
     ]
    }
   ],
   "source": [
    "# advanced indexing\n",
    "x = torch.arange(10)\n",
    "print(x[(x < 2) | (x > 8)])\n",
    "print(x[(x < 2) & (x > 8)])\n",
    "print(x[x.remainder(2) ==0])"
   ]
  },
  {
   "cell_type": "code",
   "execution_count": 32,
   "id": "protective-sellers",
   "metadata": {
    "scrolled": true
   },
   "outputs": [
    {
     "name": "stdout",
     "output_type": "stream",
     "text": [
      "tensor([ 0,  2,  4,  6,  8, 10,  6,  7,  8,  9])\n",
      "tensor([0, 1, 2, 3, 4])\n",
      "1\n",
      "10\n"
     ]
    }
   ],
   "source": [
    "# useful operations\n",
    "\n",
    "print(torch.where(x > 5, x, x*2 ))\n",
    "print(torch.tensor([0,0,1,2,2,3,4,]).unique())\n",
    "print(x.ndimension())\n",
    "print(x.numel())\n"
   ]
  },
  {
   "cell_type": "markdown",
   "id": "structured-whale",
   "metadata": {},
   "source": [
    "# Tensor Reshaping"
   ]
  },
  {
   "cell_type": "code",
   "execution_count": 33,
   "id": "egyptian-giving",
   "metadata": {},
   "outputs": [],
   "source": [
    "x = torch.arange(9)"
   ]
  },
  {
   "cell_type": "code",
   "execution_count": 34,
   "id": "apart-welding",
   "metadata": {},
   "outputs": [
    {
     "name": "stdout",
     "output_type": "stream",
     "text": [
      "tensor([[0, 1, 2],\n",
      "        [3, 4, 5],\n",
      "        [6, 7, 8]])\n",
      "torch.Size([3, 3])\n"
     ]
    }
   ],
   "source": [
    "x_3x3 = x.view(3,3)\n",
    "print(x_3x3)\n",
    "print(x_3x3.shape)"
   ]
  },
  {
   "cell_type": "code",
   "execution_count": 35,
   "id": "charitable-valuable",
   "metadata": {},
   "outputs": [
    {
     "name": "stdout",
     "output_type": "stream",
     "text": [
      "torch.Size([3, 3])\n"
     ]
    }
   ],
   "source": [
    "x_3x3 = x.reshape(3,3)\n",
    "print(x_3x3.shape)"
   ]
  },
  {
   "cell_type": "code",
   "execution_count": 36,
   "id": "sunrise-innocent",
   "metadata": {},
   "outputs": [
    {
     "name": "stdout",
     "output_type": "stream",
     "text": [
      "tensor([0, 3, 6, 1, 4, 7, 2, 5, 8])\n"
     ]
    }
   ],
   "source": [
    "y = x_3x3.t()\n",
    "y\n",
    "print(y.contiguous().view(9))"
   ]
  },
  {
   "cell_type": "code",
   "execution_count": 37,
   "id": "external-parts",
   "metadata": {},
   "outputs": [
    {
     "name": "stdout",
     "output_type": "stream",
     "text": [
      "torch.Size([4, 5])\n",
      "torch.Size([2, 10])\n",
      "torch.Size([10])\n"
     ]
    }
   ],
   "source": [
    "x1 = torch.rand((2,5))\n",
    "x2 = torch.rand((2,5))\n",
    "\n",
    "print(torch.cat((x1,x2),dim=0).shape)\n",
    "print(torch.cat((x1,x2),dim=1).shape)\n",
    "\n",
    "z1 = x1.view(-1)\n",
    "print(z1.shape)"
   ]
  },
  {
   "cell_type": "code",
   "execution_count": 38,
   "id": "czech-effect",
   "metadata": {},
   "outputs": [
    {
     "name": "stdout",
     "output_type": "stream",
     "text": [
      "torch.Size([64, 10])\n",
      "torch.Size([64, 5, 2])\n"
     ]
    }
   ],
   "source": [
    "batch = 64\n",
    "x = torch.rand((batch,2,5))\n",
    "z = x.view(batch,-1)\n",
    "print(z.shape)\n",
    "\n",
    "z = x.permute(0, 2, 1)\n",
    "print(z.shape)"
   ]
  },
  {
   "cell_type": "code",
   "execution_count": 39,
   "id": "steady-option",
   "metadata": {},
   "outputs": [
    {
     "name": "stdout",
     "output_type": "stream",
     "text": [
      "torch.Size([1, 10])\n",
      "torch.Size([10, 1])\n"
     ]
    }
   ],
   "source": [
    "x = torch.arange(10)\n",
    "print(x.unsqueeze(0).shape)\n",
    "print(x.unsqueeze(1).shape)"
   ]
  },
  {
   "cell_type": "code",
   "execution_count": 40,
   "id": "surprised-scout",
   "metadata": {},
   "outputs": [
    {
     "name": "stdout",
     "output_type": "stream",
     "text": [
      "torch.Size([1, 10])\n"
     ]
    }
   ],
   "source": [
    "x = torch.arange(10).unsqueeze(0).unsqueeze(1) #1x1x10\n",
    "z = x.squeeze(1)\n",
    "print(z.shape)"
   ]
  }
 ],
 "metadata": {
  "kernelspec": {
   "display_name": "Python 3",
   "language": "python",
   "name": "python3"
  },
  "language_info": {
   "codemirror_mode": {
    "name": "ipython",
    "version": 3
   },
   "file_extension": ".py",
   "mimetype": "text/x-python",
   "name": "python",
   "nbconvert_exporter": "python",
   "pygments_lexer": "ipython3",
   "version": "3.8.5"
  }
 },
 "nbformat": 4,
 "nbformat_minor": 5
}
